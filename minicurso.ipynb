{
 "cells": [
  {
   "cell_type": "code",
   "execution_count": 16,
   "metadata": {},
   "outputs": [
    {
     "name": "stderr",
     "output_type": "stream",
     "text": [
      "C:\\Users\\angel\\AppData\\Local\\Packages\\PythonSoftwareFoundation.Python.3.10_qbz5n2kfra8p0\\LocalCache\\local-packages\\Python310\\site-packages\\sklearn\\cluster\\_kmeans.py:870: FutureWarning: The default value of `n_init` will change from 10 to 'auto' in 1.4. Set the value of `n_init` explicitly to suppress the warning\n",
      "  warnings.warn(\n"
     ]
    }
   ],
   "source": [
    "from sklearn.cluster import KMeans\n",
    "import numpy as np\n",
    "import pandas as pd\n",
    "\n",
    "# Gerar dados fictícios para o dataset\n",
    "tipo_residencia = []\n",
    "num_pessoas = []\n",
    "aparelhos = []\n",
    "\n",
    "# Gerar dados fictícios para as variáveis\n",
    "for _ in range(1000):\n",
    "    tipo_residencia.append(np.random.choice(['Casa', 'Apartamento']))\n",
    "    num_pessoas.append(np.random.randint(1, 6))\n",
    "    aparelhos.append(np.random.randint(0, 10))\n",
    "\n",
    "# Criar um DataFrame com os dados gerados\n",
    "data = pd.DataFrame({\n",
    "    'tipo_residencia': tipo_residencia,\n",
    "    'num_pessoas': num_pessoas,\n",
    "    'aparelhos': aparelhos\n",
    "})\n",
    "\n",
    "# Realizar o agrupamento usando K-means\n",
    "kmeans = KMeans(n_clusters=3, random_state=42)\n",
    "data['grupo'] = kmeans.fit_predict(data[['num_pessoas', 'aparelhos']])\n",
    "\n",
    "# Mapear os grupos para os níveis de consumo\n",
    "consumo_mapping = {0: 'Baixo', 1: 'Médio', 2: 'Alto'}\n",
    "data['consumo'] = data['grupo'].map(consumo_mapping)\n",
    "data = data.drop(columns='grupo')\n",
    "\n",
    "n_noise_samples = int(len(data) * 0.1)\n",
    "noise_indices = np.random.choice(len(data), n_noise_samples, replace=False)\n",
    "data.loc[noise_indices, 'consumo'] = np.random.choice(['Baixo', 'Médio', 'Alto'], n_noise_samples)\n",
    "\n",
    "data.to_csv('data_consumo.csv')"
   ]
  },
  {
   "cell_type": "code",
   "execution_count": 17,
   "metadata": {},
   "outputs": [],
   "source": [
    "import pandas as pd\n",
    "from sklearn.model_selection import train_test_split\n",
    "from sklearn.ensemble import RandomForestClassifier\n",
    "from sklearn.tree import DecisionTreeClassifier\n",
    "from sklearn.neural_network import MLPClassifier\n",
    "from sklearn.svm import SVC\n",
    "from sklearn.metrics import accuracy_score, confusion_matrix"
   ]
  },
  {
   "cell_type": "code",
   "execution_count": 18,
   "metadata": {},
   "outputs": [
    {
     "name": "stdout",
     "output_type": "stream",
     "text": [
      "    tipo_residencia  num_pessoas  aparelhos consumo\n",
      "0       Apartamento            1          7    Alto\n",
      "1              Casa            3          7    Alto\n",
      "2              Casa            3          6   Baixo\n",
      "3       Apartamento            3          3   Médio\n",
      "4              Casa            5          3   Médio\n",
      "..              ...          ...        ...     ...\n",
      "995            Casa            2          4   Baixo\n",
      "996     Apartamento            1          9    Alto\n",
      "997            Casa            3          5   Baixo\n",
      "998     Apartamento            5          5   Baixo\n",
      "999     Apartamento            2          2   Médio\n",
      "\n",
      "[1000 rows x 4 columns]\n"
     ]
    }
   ],
   "source": [
    "data = pd.read_csv('data_consumo.csv',index_col=0)\n",
    "print(data)"
   ]
  },
  {
   "cell_type": "code",
   "execution_count": 19,
   "metadata": {},
   "outputs": [
    {
     "name": "stdout",
     "output_type": "stream",
     "text": [
      "       num_pessoas    aparelhos\n",
      "count  1000.000000  1000.000000\n",
      "mean      2.936000     4.450000\n",
      "std       1.424055     2.876765\n",
      "min       1.000000     0.000000\n",
      "25%       2.000000     2.000000\n",
      "50%       3.000000     5.000000\n",
      "75%       4.000000     7.000000\n",
      "max       5.000000     9.000000\n"
     ]
    }
   ],
   "source": [
    "# Resumo estatístico do dataset\n",
    "print(data.describe())"
   ]
  },
  {
   "cell_type": "code",
   "execution_count": 20,
   "metadata": {},
   "outputs": [
    {
     "name": "stdout",
     "output_type": "stream",
     "text": [
      "     num_pessoas  aparelhos consumo  tipo_residencia_Apartamento  \\\n",
      "0              1          7    Alto                            1   \n",
      "1              3          7    Alto                            0   \n",
      "2              3          6   Baixo                            0   \n",
      "3              3          3   Médio                            1   \n",
      "4              5          3   Médio                            0   \n",
      "..           ...        ...     ...                          ...   \n",
      "995            2          4   Baixo                            0   \n",
      "996            1          9    Alto                            1   \n",
      "997            3          5   Baixo                            0   \n",
      "998            5          5   Baixo                            1   \n",
      "999            2          2   Médio                            1   \n",
      "\n",
      "     tipo_residencia_Casa  \n",
      "0                       0  \n",
      "1                       1  \n",
      "2                       1  \n",
      "3                       0  \n",
      "4                       1  \n",
      "..                    ...  \n",
      "995                     1  \n",
      "996                     0  \n",
      "997                     1  \n",
      "998                     0  \n",
      "999                     0  \n",
      "\n",
      "[1000 rows x 5 columns]\n"
     ]
    }
   ],
   "source": [
    "# Converter as variáveis categóricas em variáveis numéricas usando one-hot encoding\n",
    "data_encoded = pd.get_dummies(data, columns=['tipo_residencia'])\n",
    "print(data_encoded)"
   ]
  },
  {
   "cell_type": "code",
   "execution_count": 21,
   "metadata": {},
   "outputs": [
    {
     "name": "stdout",
     "output_type": "stream",
     "text": [
      "       num_pessoas    aparelhos  tipo_residencia_Apartamento  \\\n",
      "count  1000.000000  1000.000000                  1000.000000   \n",
      "mean      2.936000     4.450000                     0.523000   \n",
      "std       1.424055     2.876765                     0.499721   \n",
      "min       1.000000     0.000000                     0.000000   \n",
      "25%       2.000000     2.000000                     0.000000   \n",
      "50%       3.000000     5.000000                     1.000000   \n",
      "75%       4.000000     7.000000                     1.000000   \n",
      "max       5.000000     9.000000                     1.000000   \n",
      "\n",
      "       tipo_residencia_Casa  \n",
      "count           1000.000000  \n",
      "mean               0.477000  \n",
      "std                0.499721  \n",
      "min                0.000000  \n",
      "25%                0.000000  \n",
      "50%                0.000000  \n",
      "75%                1.000000  \n",
      "max                1.000000  \n"
     ]
    }
   ],
   "source": [
    "# Resumo estatístico do dataset\n",
    "print(data_encoded.describe())"
   ]
  },
  {
   "cell_type": "code",
   "execution_count": 22,
   "metadata": {},
   "outputs": [],
   "source": [
    "# Separar os recursos (X) e o rótulo (y)\n",
    "X = data_encoded.drop('consumo', axis=1)\n",
    "y = data_encoded['consumo']\n",
    "\n",
    "# Dividir o conjunto de dados em treino e teste\n",
    "X_train, X_test, y_train, y_test = train_test_split(X, y, test_size=0.2, random_state=42)"
   ]
  },
  {
   "cell_type": "code",
   "execution_count": 23,
   "metadata": {},
   "outputs": [
    {
     "data": {
      "text/html": [
       "<style>#sk-container-id-2 {color: black;background-color: white;}#sk-container-id-2 pre{padding: 0;}#sk-container-id-2 div.sk-toggleable {background-color: white;}#sk-container-id-2 label.sk-toggleable__label {cursor: pointer;display: block;width: 100%;margin-bottom: 0;padding: 0.3em;box-sizing: border-box;text-align: center;}#sk-container-id-2 label.sk-toggleable__label-arrow:before {content: \"▸\";float: left;margin-right: 0.25em;color: #696969;}#sk-container-id-2 label.sk-toggleable__label-arrow:hover:before {color: black;}#sk-container-id-2 div.sk-estimator:hover label.sk-toggleable__label-arrow:before {color: black;}#sk-container-id-2 div.sk-toggleable__content {max-height: 0;max-width: 0;overflow: hidden;text-align: left;background-color: #f0f8ff;}#sk-container-id-2 div.sk-toggleable__content pre {margin: 0.2em;color: black;border-radius: 0.25em;background-color: #f0f8ff;}#sk-container-id-2 input.sk-toggleable__control:checked~div.sk-toggleable__content {max-height: 200px;max-width: 100%;overflow: auto;}#sk-container-id-2 input.sk-toggleable__control:checked~label.sk-toggleable__label-arrow:before {content: \"▾\";}#sk-container-id-2 div.sk-estimator input.sk-toggleable__control:checked~label.sk-toggleable__label {background-color: #d4ebff;}#sk-container-id-2 div.sk-label input.sk-toggleable__control:checked~label.sk-toggleable__label {background-color: #d4ebff;}#sk-container-id-2 input.sk-hidden--visually {border: 0;clip: rect(1px 1px 1px 1px);clip: rect(1px, 1px, 1px, 1px);height: 1px;margin: -1px;overflow: hidden;padding: 0;position: absolute;width: 1px;}#sk-container-id-2 div.sk-estimator {font-family: monospace;background-color: #f0f8ff;border: 1px dotted black;border-radius: 0.25em;box-sizing: border-box;margin-bottom: 0.5em;}#sk-container-id-2 div.sk-estimator:hover {background-color: #d4ebff;}#sk-container-id-2 div.sk-parallel-item::after {content: \"\";width: 100%;border-bottom: 1px solid gray;flex-grow: 1;}#sk-container-id-2 div.sk-label:hover label.sk-toggleable__label {background-color: #d4ebff;}#sk-container-id-2 div.sk-serial::before {content: \"\";position: absolute;border-left: 1px solid gray;box-sizing: border-box;top: 0;bottom: 0;left: 50%;z-index: 0;}#sk-container-id-2 div.sk-serial {display: flex;flex-direction: column;align-items: center;background-color: white;padding-right: 0.2em;padding-left: 0.2em;position: relative;}#sk-container-id-2 div.sk-item {position: relative;z-index: 1;}#sk-container-id-2 div.sk-parallel {display: flex;align-items: stretch;justify-content: center;background-color: white;position: relative;}#sk-container-id-2 div.sk-item::before, #sk-container-id-2 div.sk-parallel-item::before {content: \"\";position: absolute;border-left: 1px solid gray;box-sizing: border-box;top: 0;bottom: 0;left: 50%;z-index: -1;}#sk-container-id-2 div.sk-parallel-item {display: flex;flex-direction: column;z-index: 1;position: relative;background-color: white;}#sk-container-id-2 div.sk-parallel-item:first-child::after {align-self: flex-end;width: 50%;}#sk-container-id-2 div.sk-parallel-item:last-child::after {align-self: flex-start;width: 50%;}#sk-container-id-2 div.sk-parallel-item:only-child::after {width: 0;}#sk-container-id-2 div.sk-dashed-wrapped {border: 1px dashed gray;margin: 0 0.4em 0.5em 0.4em;box-sizing: border-box;padding-bottom: 0.4em;background-color: white;}#sk-container-id-2 div.sk-label label {font-family: monospace;font-weight: bold;display: inline-block;line-height: 1.2em;}#sk-container-id-2 div.sk-label-container {text-align: center;}#sk-container-id-2 div.sk-container {/* jupyter's `normalize.less` sets `[hidden] { display: none; }` but bootstrap.min.css set `[hidden] { display: none !important; }` so we also need the `!important` here to be able to override the default hidden behavior on the sphinx rendered scikit-learn.org. See: https://github.com/scikit-learn/scikit-learn/issues/21755 */display: inline-block !important;position: relative;}#sk-container-id-2 div.sk-text-repr-fallback {display: none;}</style><div id=\"sk-container-id-2\" class=\"sk-top-container\"><div class=\"sk-text-repr-fallback\"><pre>RandomForestClassifier()</pre><b>In a Jupyter environment, please rerun this cell to show the HTML representation or trust the notebook. <br />On GitHub, the HTML representation is unable to render, please try loading this page with nbviewer.org.</b></div><div class=\"sk-container\" hidden><div class=\"sk-item\"><div class=\"sk-estimator sk-toggleable\"><input class=\"sk-toggleable__control sk-hidden--visually\" id=\"sk-estimator-id-2\" type=\"checkbox\" checked><label for=\"sk-estimator-id-2\" class=\"sk-toggleable__label sk-toggleable__label-arrow\">RandomForestClassifier</label><div class=\"sk-toggleable__content\"><pre>RandomForestClassifier()</pre></div></div></div></div></div>"
      ],
      "text/plain": [
       "RandomForestClassifier()"
      ]
     },
     "execution_count": 23,
     "metadata": {},
     "output_type": "execute_result"
    }
   ],
   "source": [
    "# Criar e treinar o modelo Random Forest Classifier\n",
    "model = RandomForestClassifier()\n",
    "\n",
    "# # Criar e treinar o modelo Decision Tree Classifier\n",
    "# model = DecisionTreeClassifier()\n",
    "\n",
    "# # Criar e treinar o modelo MLPClassifier\n",
    "# model = MLPClassifier()\n",
    "\n",
    "# # Criar e treinar o modelo SVM Classifier\n",
    "# model = SVC()\n",
    "\n",
    "\n",
    "model.fit(X_train, y_train)"
   ]
  },
  {
   "cell_type": "code",
   "execution_count": 24,
   "metadata": {},
   "outputs": [
    {
     "name": "stdout",
     "output_type": "stream",
     "text": [
      "Acurácia: 0.925\n"
     ]
    }
   ],
   "source": [
    "# Fazer previsões no conjunto de teste\n",
    "y_pred = model.predict(X_test)\n",
    "\n",
    "# Avaliar o modelo usando acurácia\n",
    "accuracy = accuracy_score(y_test, y_pred)\n",
    "\n",
    "print(\"Acurácia:\", accuracy)"
   ]
  },
  {
   "cell_type": "code",
   "execution_count": 25,
   "metadata": {},
   "outputs": [
    {
     "name": "stdout",
     "output_type": "stream",
     "text": [
      "Matriz de Confusão:\n",
      "[[59  3  3]\n",
      " [ 2 52  2]\n",
      " [ 3  2 74]]\n"
     ]
    }
   ],
   "source": [
    "# Calcular a matriz de confusão\n",
    "confusion_matrix_ = confusion_matrix(y_test, y_pred)\n",
    "print(\"Matriz de Confusão:\")\n",
    "print(confusion_matrix_)"
   ]
  },
  {
   "cell_type": "code",
   "execution_count": 26,
   "metadata": {},
   "outputs": [
    {
     "name": "stdout",
     "output_type": "stream",
     "text": [
      "['Médio']\n"
     ]
    }
   ],
   "source": [
    "\n",
    "# Características de exemplo\n",
    "exemplo = {\n",
    "    'tipo_residencia': 'Casa',\n",
    "    'num_pessoas': 1,\n",
    "    'aparelhos': 3\n",
    "}\n"
   ]
  },
  {
   "cell_type": "code",
   "execution_count": 27,
   "metadata": {},
   "outputs": [
    {
     "name": "stdout",
     "output_type": "stream",
     "text": [
      "['Médio']\n"
     ]
    }
   ],
   "source": [
    "# Converter o exemplo em um DataFrame\n",
    "exemplo_df = pd.DataFrame(exemplo, index=[0])\n",
    "\n",
    "# Codificar o exemplo usando one-hot encoding\n",
    "exemplo_encoded = pd.get_dummies(exemplo_df)\n",
    "\n",
    "missing_cols = set(X.columns) - set(exemplo_encoded.columns)\n",
    "for col in missing_cols:\n",
    "    exemplo_encoded[col] = 0\n",
    "\n",
    "# Fazer a previsão para o exemplo\n",
    "col = X_test.columns\n",
    "y_pred_exemplo = model.predict(exemplo_encoded[col])\n",
    "\n",
    "print(y_pred_exemplo)"
   ]
  }
 ],
 "metadata": {
  "kernelspec": {
   "display_name": "Python 3",
   "language": "python",
   "name": "python3"
  },
  "language_info": {
   "codemirror_mode": {
    "name": "ipython",
    "version": 3
   },
   "file_extension": ".py",
   "mimetype": "text/x-python",
   "name": "python",
   "nbconvert_exporter": "python",
   "pygments_lexer": "ipython3",
   "version": "3.10.4"
  },
  "orig_nbformat": 4
 },
 "nbformat": 4,
 "nbformat_minor": 2
}
