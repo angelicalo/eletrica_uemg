{
 "cells": [
  {
   "cell_type": "code",
   "execution_count": null,
   "metadata": {},
   "outputs": [],
   "source": [
    "from sklearn.cluster import KMeans\n",
    "import numpy as np\n",
    "import pandas as pd\n",
    "\n",
    "# Gerar dados fictícios para o dataset\n",
    "tipo_residencia = []\n",
    "num_pessoas = []\n",
    "aparelhos = []\n",
    "\n",
    "# Gerar dados fictícios para as variáveis\n",
    "for _ in range(1000):\n",
    "    tipo_residencia.append(np.random.choice(['Casa', 'Apartamento']))\n",
    "    num_pessoas.append(np.random.randint(1, 6))\n",
    "    aparelhos.append(np.random.randint(0, 10))\n",
    "\n",
    "# Criar um DataFrame com os dados gerados\n",
    "data = pd.DataFrame({\n",
    "    'tipo_residencia': tipo_residencia,\n",
    "    'num_pessoas': num_pessoas,\n",
    "    'aparelhos': aparelhos\n",
    "})\n",
    "\n",
    "# Realizar o agrupamento usando K-means\n",
    "kmeans = KMeans(n_clusters=3, random_state=42)\n",
    "data['grupo'] = kmeans.fit_predict(data[['num_pessoas', 'aparelhos']])\n",
    "\n",
    "# Mapear os grupos para os níveis de consumo\n",
    "consumo_mapping = {0: 'Baixo', 1: 'Médio', 2: 'Alto'}\n",
    "data['consumo'] = data['grupo'].map(consumo_mapping)\n",
    "data = data.drop(columns='grupo')\n",
    "\n",
    "n_noise_samples = int(len(data) * 0.1)\n",
    "noise_indices = np.random.choice(len(data), n_noise_samples, replace=False)\n",
    "data.loc[noise_indices, 'consumo'] = np.random.choice(['Baixo', 'Médio', 'Alto'], n_noise_samples)\n",
    "\n",
    "data.to_csv('data_consumo.csv')"
   ]
  },
  {
   "cell_type": "code",
   "execution_count": null,
   "metadata": {},
   "outputs": [],
   "source": [
    "import pandas as pd\n",
    "from sklearn.model_selection import train_test_split\n",
    "from sklearn.ensemble import RandomForestClassifier\n",
    "from sklearn.tree import DecisionTreeClassifier\n",
    "from sklearn.neural_network import MLPClassifier\n",
    "from sklearn.svm import SVC\n",
    "from sklearn.metrics import accuracy_score, confusion_matrix"
   ]
  },
  {
   "cell_type": "code",
   "execution_count": null,
   "metadata": {},
   "outputs": [],
   "source": [
    "data = pd.read_csv('data_consumo.csv',index_col=0)\n",
    "data"
   ]
  },
  {
   "cell_type": "code",
   "execution_count": null,
   "metadata": {},
   "outputs": [],
   "source": [
    "# Resumo estatístico do dataset\n",
    "print(data.describe())"
   ]
  },
  {
   "cell_type": "code",
   "execution_count": null,
   "metadata": {},
   "outputs": [],
   "source": [
    "# Converter as variáveis categóricas em variáveis numéricas usando one-hot encoding\n",
    "data_encoded = pd.get_dummies(data, columns=['tipo_residencia'])\n",
    "data_encoded"
   ]
  },
  {
   "cell_type": "code",
   "execution_count": null,
   "metadata": {},
   "outputs": [],
   "source": [
    "# Resumo estatístico do dataset\n",
    "data_encoded.describe()"
   ]
  },
  {
   "cell_type": "code",
   "execution_count": null,
   "metadata": {},
   "outputs": [],
   "source": [
    "# Separar os recursos (X) e o rótulo (y)\n",
    "X = data_encoded.drop('consumo', axis=1)\n",
    "y = data_encoded['consumo']\n",
    "\n",
    "# Dividir o conjunto de dados em treino e teste\n",
    "X_train, X_test, y_train, y_test = train_test_split(X, y, test_size=0.2, random_state=42)"
   ]
  },
  {
   "cell_type": "code",
   "execution_count": null,
   "metadata": {},
   "outputs": [],
   "source": [
    "# Criar e treinar o modelo Random Forest Classifier\n",
    "model = RandomForestClassifier()\n",
    "\n",
    "# # Criar e treinar o modelo Decision Tree Classifier\n",
    "# model = DecisionTreeClassifier()\n",
    "\n",
    "# # Criar e treinar o modelo MLPClassifier\n",
    "# model = MLPClassifier()\n",
    "\n",
    "# # Criar e treinar o modelo SVM Classifier\n",
    "# model = SVC()\n",
    "\n",
    "\n",
    "model.fit(X_train, y_train)"
   ]
  },
  {
   "cell_type": "code",
   "execution_count": null,
   "metadata": {},
   "outputs": [],
   "source": [
    "# Fazer previsões no conjunto de teste\n",
    "y_pred = model.predict(X_test)\n",
    "\n",
    "# Avaliar o modelo usando acurácia\n",
    "accuracy = accuracy_score(y_test, y_pred)\n",
    "\n",
    "print(\"Acurácia:\", accuracy)"
   ]
  },
  {
   "cell_type": "code",
   "execution_count": null,
   "metadata": {},
   "outputs": [],
   "source": [
    "# Calcular a matriz de confusão\n",
    "confusion_matrix_ = confusion_matrix(y_test, y_pred)\n",
    "print(\"Matriz de Confusão:\")\n",
    "print(confusion_matrix_)"
   ]
  },
  {
   "cell_type": "code",
   "execution_count": null,
   "metadata": {},
   "outputs": [],
   "source": [
    "\n",
    "# Características de exemplo\n",
    "exemplo = {\n",
    "    'tipo_residencia': 'Casa',\n",
    "    'num_pessoas': 1,\n",
    "    'aparelhos': 3\n",
    "}\n"
   ]
  },
  {
   "cell_type": "code",
   "execution_count": null,
   "metadata": {},
   "outputs": [],
   "source": [
    "# Converter o exemplo em um DataFrame\n",
    "exemplo_df = pd.DataFrame(exemplo, index=[0])\n",
    "\n",
    "# Codificar o exemplo usando one-hot encoding\n",
    "exemplo_encoded = pd.get_dummies(exemplo_df)\n",
    "\n",
    "missing_cols = set(X.columns) - set(exemplo_encoded.columns)\n",
    "for col in missing_cols:\n",
    "    exemplo_encoded[col] = 0\n",
    "\n",
    "# Fazer a previsão para o exemplo\n",
    "col = X_test.columns\n",
    "y_pred_exemplo = model.predict(exemplo_encoded[col])\n",
    "\n",
    "print(y_pred_exemplo)"
   ]
  }
 ],
 "metadata": {
  "kernelspec": {
   "display_name": "Python 3",
   "language": "python",
   "name": "python3"
  },
  "language_info": {
   "codemirror_mode": {
    "name": "ipython",
    "version": 3
   },
   "file_extension": ".py",
   "mimetype": "text/x-python",
   "name": "python",
   "nbconvert_exporter": "python",
   "pygments_lexer": "ipython3",
   "version": "3.10.4"
  },
  "orig_nbformat": 4
 },
 "nbformat": 4,
 "nbformat_minor": 2
}
