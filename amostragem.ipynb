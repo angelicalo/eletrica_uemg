{
 "cells": [
  {
   "attachments": {},
   "cell_type": "markdown",
   "metadata": {},
   "source": [
    "# Amostragem"
   ]
  },
  {
   "cell_type": "code",
   "execution_count": null,
   "metadata": {},
   "outputs": [],
   "source": [
    "# Amostragem aleatória simples\n",
    "import numpy as np\n",
    "import matplotlib.pyplot as plt\n",
    "import random\n",
    "\n",
    "# Definir tamanho da população\n",
    "tamanho_populacao = 100\n",
    "\n",
    "# Gerar coordenadas x e y aleatórias\n",
    "x = np.random.uniform(1.0, 2.0, tamanho_populacao)\n",
    "y = np.random.uniform(50, 100, tamanho_populacao)\n",
    "\n",
    "populacao = list(zip(x,y))\n",
    "\n",
    "# Plotar os dados\n",
    "plt.scatter(x, y)\n",
    "plt.title('População')\n",
    "plt.xlabel('$x_1$')\n",
    "plt.ylabel('$x_2$')\n",
    "plt.show()\n"
   ]
  },
  {
   "cell_type": "code",
   "execution_count": null,
   "metadata": {},
   "outputs": [],
   "source": [
    "tamanho_amostra = 30\n",
    "\n",
    "# Amostragem aleatória simples\n",
    "amostra = random.sample(populacao, tamanho_amostra)"
   ]
  },
  {
   "cell_type": "code",
   "execution_count": null,
   "metadata": {},
   "outputs": [],
   "source": [
    "# Plotar os dados\n",
    "x = [item[0] for item in amostra]\n",
    "y = [item[1] for item in amostra]\n",
    "plt.scatter(x, y)\n",
    "plt.title('Amostra')\n",
    "plt.xlabel('$x_1$')\n",
    "plt.ylabel('$x_2$')\n",
    "plt.show()\n"
   ]
  },
  {
   "cell_type": "code",
   "execution_count": null,
   "metadata": {},
   "outputs": [],
   "source": [
    "plt.scatter([item[0] for item in populacao],[item[1] for item in populacao],c=\"blue\")\n",
    "plt.scatter([item[0] for item in amostra],[item[1] for item in amostra],c=\"red\",s=10)\n",
    "plt.xlabel('$x_1$')\n",
    "plt.ylabel('$x_2$')\n",
    "plt.show()"
   ]
  },
  {
   "attachments": {},
   "cell_type": "markdown",
   "metadata": {},
   "source": [
    "# Tratamento dos dados"
   ]
  },
  {
   "cell_type": "code",
   "execution_count": null,
   "metadata": {},
   "outputs": [],
   "source": [
    "import pandas as pd"
   ]
  },
  {
   "cell_type": "code",
   "execution_count": null,
   "metadata": {},
   "outputs": [],
   "source": [
    "# incluindo dados faltantes no conjunto de dados\n",
    "dados = pd.DataFrame(populacao)\n",
    "dados.loc[[3,7,99],0] = None\n",
    "dados.loc[[0,50,95],1] = None\n",
    "dados"
   ]
  },
  {
   "cell_type": "code",
   "execution_count": null,
   "metadata": {},
   "outputs": [],
   "source": [
    "# Opção 1: Remover linhas com dados faltantes\n",
    "dados_opcao1 = dados.dropna()\n",
    "\n",
    "# Opção 2: Preencher dados faltantes com um valor específico\n",
    "dados_opcao2 = dados.fillna(0)\n",
    "\n",
    "# Opção 3: Preencher dados faltantes com a média da coluna\n",
    "dados_opcao3 = dados.fillna(dados.mean())\n",
    "\n",
    "# Exibir os DataFrames resultantes\n",
    "print(\"\\nDataFrame após remover linhas com dados faltantes:\")\n",
    "print(dados_opcao1)\n",
    "\n",
    "print(\"\\nDataFrame após preencher dados faltantes com valor específico:\")\n",
    "print(dados_opcao2)\n",
    "\n",
    "print(\"\\nDataFrame após preencher dados faltantes com a média da coluna:\")\n",
    "print"
   ]
  }
 ],
 "metadata": {
  "kernelspec": {
   "display_name": "Python 3",
   "language": "python",
   "name": "python3"
  },
  "language_info": {
   "codemirror_mode": {
    "name": "ipython",
    "version": 3
   },
   "file_extension": ".py",
   "mimetype": "text/x-python",
   "name": "python",
   "nbconvert_exporter": "python",
   "pygments_lexer": "ipython3",
   "version": "3.10.4"
  },
  "orig_nbformat": 4
 },
 "nbformat": 4,
 "nbformat_minor": 2
}
