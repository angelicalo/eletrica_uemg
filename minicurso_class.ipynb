{
 "cells": [
  {
   "cell_type": "code",
   "execution_count": null,
   "metadata": {},
   "outputs": [],
   "source": [
    "# Importar as bibliotecas necessárias\n",
    "import numpy as np\n",
    "import matplotlib.pyplot as plt\n",
    "from sklearn import datasets\n",
    "from sklearn.model_selection import train_test_split\n",
    "from sklearn.metrics import accuracy_score, confusion_matrix\n",
    "from sklearn.tree import DecisionTreeClassifier\n",
    "from sklearn.linear_model import LogisticRegression\n",
    "from sklearn.svm import SVC"
   ]
  },
  {
   "cell_type": "code",
   "execution_count": null,
   "metadata": {},
   "outputs": [],
   "source": [
    "\n",
    "# Carregar um exemplo de dataset bidimensional\n",
    "X, y = datasets.make_classification(n_samples=200, n_features=2, n_informative=2, n_redundant=0,\n",
    "                                    n_clusters_per_class=1, random_state=40)\n",
    "\n",
    "# Plotar os dados de treinamento\n",
    "plt.scatter(X[:, 0], X[:, 1], c=y, cmap='bwr')\n",
    "plt.xlabel('Feature 1')\n",
    "plt.ylabel('Feature 2')\n",
    "plt.title('Dados de treinamento')\n",
    "plt.xlim(-4,4)\n",
    "plt.ylim(-4,2)\n",
    "plt.show()\n",
    "\n"
   ]
  },
  {
   "cell_type": "code",
   "execution_count": null,
   "metadata": {},
   "outputs": [],
   "source": [
    "# Dividir o dataset em treinamento e teste\n",
    "X_train, X_test, y_train, y_test = train_test_split(X, y, test_size=0.3, random_state=2)"
   ]
  },
  {
   "cell_type": "code",
   "execution_count": null,
   "metadata": {},
   "outputs": [],
   "source": [
    "# Plotar os dados de treinamento\n",
    "plt.scatter(X_train[:, 0], X_train[:, 1], c=y_train, cmap='bwr')\n",
    "plt.xlabel('Feature 1')\n",
    "plt.ylabel('Feature 2')\n",
    "plt.title('Dados de treinamento')\n",
    "plt.xlim(-4,4)\n",
    "plt.ylim(-4,2)\n",
    "plt.show()"
   ]
  },
  {
   "cell_type": "code",
   "execution_count": null,
   "metadata": {},
   "outputs": [],
   "source": [
    "# Plotar os dados de treinamento\n",
    "plt.scatter(X_test[:, 0], X_test[:, 1], c=y_test, cmap='bwr')\n",
    "plt.xlabel('Feature 1')\n",
    "plt.ylabel('Feature 2')\n",
    "plt.title('Dados de teste')\n",
    "plt.xlim(-4,4)\n",
    "plt.ylim(-4,2)\n",
    "plt.show()"
   ]
  },
  {
   "cell_type": "code",
   "execution_count": null,
   "metadata": {},
   "outputs": [],
   "source": [
    "# Criar e treinar o modelo SVM\n",
    "# kernel = 'linear' ou 'rbf'\n",
    "svm_model = SVC(kernel='linear')\n",
    "svm_model = SVC(kernel='rbf')\n",
    "svm_model.fit(X_train, y_train)\n",
    "\n",
    "# Classificar novos exemplos usando os modelos treinados\n",
    "new_example = np.array([[0.5, 0.5]])  # Exemplo fictício para classificar\n",
    "svm_prediction = svm_model.predict(new_example)\n"
   ]
  },
  {
   "cell_type": "code",
   "execution_count": null,
   "metadata": {},
   "outputs": [],
   "source": [
    "# Imprimir as previsões\n",
    "print(\"Previsão do modelo SVM:\", svm_prediction)\n",
    "\n",
    "# Plotar os dados de treinamento\n",
    "plt.scatter(X_test[:, 0], X_test[:, 1], c=y_test, cmap='bwr')\n",
    "plt.xlabel('Feature 1')\n",
    "plt.ylabel('Feature 2')\n",
    "plt.title('Dados de teste')\n",
    "\n",
    "# Definir limites do gráfico\n",
    "x_min, x_max = X_train[:, 0].min() - 1, X_train[:, 0].max() + 1\n",
    "y_min, y_max = X_train[:, 1].min() - 1, X_train[:, 1].max() + 1\n",
    "xx, yy = np.meshgrid(np.arange(x_min, x_max, 0.02), np.arange(y_min, y_max, 0.02))\n",
    "\n",
    "# Fazer as previsões em todos os pontos do gráfico\n",
    "Z_svm = svm_model.predict(np.c_[xx.ravel(), yy.ravel()])\n",
    "Z_svm = Z_svm.reshape(xx.shape)\n",
    "\n",
    "# Plotar a superfície de decisão\n",
    "plt.contourf(xx, yy, Z_svm, alpha=0.4)\n",
    "\n",
    "# Adicionar legenda\n",
    "plt.legend(['SVM'])\n",
    "\n",
    "# Mostrar o gráfico\n",
    "plt.show()"
   ]
  },
  {
   "cell_type": "code",
   "execution_count": null,
   "metadata": {},
   "outputs": [],
   "source": [
    "# Fazer previsões no conjunto de teste\n",
    "y_pred = svm_model.predict(X_test)\n",
    "\n",
    "# Avaliar o modelo usando acurácia\n",
    "accuracy = accuracy_score(y_test, y_pred)\n",
    "\n",
    "print(\"Acurácia:\", accuracy)"
   ]
  },
  {
   "cell_type": "code",
   "execution_count": null,
   "metadata": {},
   "outputs": [],
   "source": [
    "# Calcular a matriz de confusão\n",
    "confusion_matrix_ = confusion_matrix(y_test, y_pred)\n",
    "print(\"Matriz de Confusão:\")\n",
    "print(confusion_matrix_)"
   ]
  }
 ],
 "metadata": {
  "kernelspec": {
   "display_name": "Python 3",
   "language": "python",
   "name": "python3"
  },
  "language_info": {
   "codemirror_mode": {
    "name": "ipython",
    "version": 3
   },
   "file_extension": ".py",
   "mimetype": "text/x-python",
   "name": "python",
   "nbconvert_exporter": "python",
   "pygments_lexer": "ipython3",
   "version": "3.10.4"
  },
  "orig_nbformat": 4
 },
 "nbformat": 4,
 "nbformat_minor": 2
}
